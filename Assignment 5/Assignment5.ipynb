{
 "cells": [
  {
   "cell_type": "markdown",
   "id": "cadca9da",
   "metadata": {},
   "source": [
    "## UniProt SPARQL Endpoint"
   ]
  },
  {
   "cell_type": "markdown",
   "id": "d2bdf364",
   "metadata": {},
   "source": [
    "Here we stabish the endpoint for the following questions that is going to be UniProt, also the output format that will be JSON. "
   ]
  },
  {
   "cell_type": "code",
   "execution_count": 15,
   "id": "25c66b00",
   "metadata": {},
   "outputs": [
    {
     "data": {
      "text/html": [
       "<div class=\"krn-spql\"><div class=\"magic\">Endpoint set to: https://sparql.uniprot.org/sparql</div><div class=\"magic\">Request format: JSON</div></div>"
      ],
      "text/plain": [
       "Endpoint set to: https://sparql.uniprot.org/sparql\n",
       "Request format: JSON\n"
      ]
     },
     "metadata": {},
     "output_type": "display_data"
    }
   ],
   "source": [
    "%endpoint https://sparql.uniprot.org/sparql\n",
    "%format JSON  "
   ]
  },
  {
   "cell_type": "markdown",
   "id": "ef7208de",
   "metadata": {},
   "source": [
    "**1. How many protein records are in UniProt?**\n",
    "\n",
    "For this we are going to use COUNT to obtain the number of protein records. "
   ]
  },
  {
   "cell_type": "code",
   "execution_count": 18,
   "id": "dac0cf93",
   "metadata": {},
   "outputs": [
    {
     "data": {
      "text/html": [
       "<div class=\"krn-spql\"><table><tr class=hdr><th>many_prots</th></tr><tr class=odd><td class=val>378979161</td></tr></table><div class=\"tinfo\">Total: 1, Shown: 1</div></div>"
      ]
     },
     "metadata": {},
     "output_type": "display_data"
    }
   ],
   "source": [
    "PREFIX up: <http://purl.uniprot.org/core/>\n",
    "PREFIX rdf: <http://www.w3.org/1999/02/22-rdf-syntax-ns#>\n",
    "SELECT (COUNT (?protein) AS ?many_prots) \n",
    "WHERE \n",
    "{\n",
    "    ?protein rdf:type up:Protein . \n",
    "}"
   ]
  },
  {
   "cell_type": "markdown",
   "id": "ff24f645",
   "metadata": {},
   "source": [
    "**2. How many Arabidopsis thaliana protein records are in UniProt?**\n",
    "\n",
    "Using part of the last Query we also use taxon:3702 to select those protein records that corresponds with Arabidopsis thaliana (using taxon:3702, because it is the id for this species). "
   ]
  },
  {
   "cell_type": "code",
   "execution_count": 3,
   "id": "2ae94451",
   "metadata": {},
   "outputs": [
    {
     "data": {
      "text/html": [
       "<div class=\"krn-spql\"><table><tr class=hdr><th>how_many_prots</th></tr><tr class=odd><td class=val>136447</td></tr></table><div class=\"tinfo\">Total: 1, Shown: 1</div></div>"
      ]
     },
     "metadata": {},
     "output_type": "display_data"
    }
   ],
   "source": [
    "PREFIX up: <http://purl.uniprot.org/core/>\n",
    "PREFIX rdf: <http://www.w3.org/1999/02/22-rdf-syntax-ns#>\n",
    "PREFIX taxon: <http://purl.uniprot.org/taxonomy/>\n",
    "\n",
    "SELECT (COUNT (DISTINCT ?protein) AS ?how_many_prots)\n",
    "WHERE \n",
    "{\n",
    "    ?protein rdf:type up:Protein ; \n",
    "             up:organism taxon:3702 .                                 \n",
    "}"
   ]
  },
  {
   "cell_type": "markdown",
   "id": "a005e290",
   "metadata": {},
   "source": [
    "**3. Retrieve pictures of Arabidopsis thaliana from UniProt?** \n",
    "\n",
    "Using taxon id for A. thaliana again and foaf:depiction let us to retrive pictures. "
   ]
  },
  {
   "cell_type": "code",
   "execution_count": 4,
   "id": "367e1392",
   "metadata": {},
   "outputs": [
    {
     "data": {
      "text/html": [
       "<div class=\"krn-spql\"><table><tr class=hdr><th>picture</th></tr><tr class=odd><td class=val><a href=\"https://upload.wikimedia.org/wikipedia/commons/3/39/Arabidopsis.jpg\" target=\"_other\">https://upload.wikimedia.org/wikipedia/commons/3/39/Arabidopsis.jpg</a></td></tr><tr class=even><td class=val><a href=\"https://upload.wikimedia.org/wikipedia/commons/thumb/6/60/Arabidopsis_thaliana_inflorescencias.jpg/800px-Arabidopsis_thaliana_inflorescencias.jpg\" target=\"_other\">https://upload.wikimedia.org/wikipedia/commons/thumb/6/60/Arabidopsis_thaliana_inflorescencias.jpg/800px-Arabidopsis_thaliana_inflorescencias.jpg</a></td></tr></table><div class=\"tinfo\">Total: 2, Shown: 2</div></div>"
      ]
     },
     "metadata": {},
     "output_type": "display_data"
    }
   ],
   "source": [
    "PREFIX taxon: <http://purl.uniprot.org/taxonomy/>\n",
    "PREFIX foaf: <http://xmlns.com/foaf/0.1/>\n",
    "\n",
    "SELECT ?picture \n",
    "WHERE {\n",
    "  taxon:3702 foaf:depiction ?picture . \n",
    "}"
   ]
  },
  {
   "cell_type": "markdown",
   "id": "3543292c",
   "metadata": {},
   "source": [
    "**4. What is the description of the enzyme activity of UniProt Protein Q9SZZ8 ?** \n",
    "\n",
    "Here ?just_enzyme retrieves the enzyme record that has ?activity_des as description. For this we use uniprotkb to filter records to be jus for the desired protein (Q9SZZ8). "
   ]
  },
  {
   "cell_type": "code",
   "execution_count": 5,
   "id": "d49259cc",
   "metadata": {},
   "outputs": [
    {
     "data": {
      "text/html": [
       "<div class=\"krn-spql\"><table><tr class=hdr><th>just_enzyme</th>\n",
       "<th>activity_des</th></tr><tr class=odd><td class=val><a href=\"http://purl.uniprot.org/enzyme/1.14.15.24\" target=\"_other\">http://purl.uniprot.org/enzyme/1.14.15.24</a></td>\n",
       "<td class=val>all-trans-beta-carotene + 4 H(+) + 2 O2 + 4 reduced [2Fe-2S]-[ferredoxin] = all-trans-zeaxanthin + 2 H2O + 4 oxidized [2Fe-2S]-[ferredoxin].</td></tr></table><div class=\"tinfo\">Total: 1, Shown: 1</div></div>"
      ]
     },
     "metadata": {},
     "output_type": "display_data"
    }
   ],
   "source": [
    "PREFIX uniprotkb: <http://purl.uniprot.org/uniprot/>\n",
    "PREFIX rdf: <http://www.w3.org/1999/02/22-rdf-syntax-ns#>\n",
    "PREFIX up: <http://purl.uniprot.org/core/>\n",
    "PREFIX rdfs: <http://www.w3.org/2000/01/rdf-schema#>\n",
    "\n",
    "SELECT ?just_enzyme ?activity_des \n",
    "WHERE \n",
    "{\n",
    "    uniprotkb:Q9SZZ8 rdf:type up:Protein ; \n",
    "                     up:enzyme ?just_enzyme . \n",
    "    ?just_enzyme up:activity ?enzyme_activity . \n",
    "    ?enzyme_activity rdfs:label ?activity_des . \n",
    "}"
   ]
  },
  {
   "cell_type": "markdown",
   "id": "1b0acc5f",
   "metadata": {},
   "source": [
    "**5. Retrieve the proteins ids, and date of submission, for 5 proteins that have been added to UniProt this year.**\n",
    "\n",
    "Here we extract 2 things, the id and the date. We extract the ?protein_id in mneumoniac format, and also it is ?adition_date. The ?adition_date retrieved then it is used for filtering and keeping only with the 2022 records. Finally we filter to obtain just 5 records (since all the results are ordered by creation date the limit 5 gives us the first records of 2022. \n",
    "\n",
    "\n",
    "\n"
   ]
  },
  {
   "cell_type": "code",
   "execution_count": 6,
   "id": "fe33a785",
   "metadata": {},
   "outputs": [
    {
     "data": {
      "text/html": [
       "<div class=\"krn-spql\"><table><tr class=hdr><th>protein_id</th>\n",
       "<th>adition_date</th></tr><tr class=odd><td class=val>A0A8E0N8L5_ECOLX</td>\n",
       "<td class=val>2022-01-19</td></tr><tr class=even><td class=val>A0A8F9CQZ7_ECOLX</td>\n",
       "<td class=val>2022-01-19</td></tr><tr class=odd><td class=val>A0A8F9ICG9_ECOLX</td>\n",
       "<td class=val>2022-01-19</td></tr><tr class=even><td class=val>A0A8F8WH98_PSEAI</td>\n",
       "<td class=val>2022-01-19</td></tr><tr class=odd><td class=val>A0A8F9NZK3_PSEAI</td>\n",
       "<td class=val>2022-01-19</td></tr></table><div class=\"tinfo\">Total: 5, Shown: 5</div></div>"
      ]
     },
     "metadata": {},
     "output_type": "display_data"
    }
   ],
   "source": [
    "PREFIX xsd: <http://www.w3.org/2001/XMLSchema#>\n",
    "PREFIX up: <http://purl.uniprot.org/core/>\n",
    "PREFIX rdf: <http://www.w3.org/1999/02/22-rdf-syntax-ns#>\n",
    "\n",
    "SELECT ?protein_id ?adition_date\n",
    "WHERE\n",
    "{\n",
    "  ?protein rdf:type up:Protein ;\n",
    "           up:mnemonic ?protein_id ; \n",
    "           up:created ?adition_date . \n",
    "  FILTER( ?adition_date > xsd:date(\"2022-01-01\") && ?adition_date < xsd:date(\"2023-01-01\")) .\n",
    "}\n",
    "LIMIT 5\n"
   ]
  },
  {
   "cell_type": "markdown",
   "id": "06d5836f",
   "metadata": {},
   "source": [
    "**6. How  many species are in the UniProt taxonomy?**\n",
    "\n",
    "We use COUNT again to obatin the number of species(?num_species), first delimiting ?species to catalogue them as Taxon (with rdf:type), then we specify that being Taxon it has to corresponds with species.  "
   ]
  },
  {
   "cell_type": "code",
   "execution_count": 7,
   "id": "ebb7abd3",
   "metadata": {},
   "outputs": [
    {
     "data": {
      "text/html": [
       "<div class=\"krn-spql\"><table><tr class=hdr><th>num_species</th></tr><tr class=odd><td class=val>1995728</td></tr></table><div class=\"tinfo\">Total: 1, Shown: 1</div></div>"
      ]
     },
     "metadata": {},
     "output_type": "display_data"
    }
   ],
   "source": [
    "PREFIX up: <http://purl.uniprot.org/core/>\n",
    "PREFIX rdf: <http://www.w3.org/1999/02/22-rdf-syntax-ns#>\n",
    "\n",
    "SELECT (COUNT(DISTINCT ?species) AS ?num_species)\n",
    "WHERE {\n",
    " ?species rdf:type up:Taxon ; \n",
    "          up:rank up:Species . \n",
    "}"
   ]
  },
  {
   "cell_type": "markdown",
   "id": "baa101f8",
   "metadata": {},
   "source": [
    "**7. How many species have at least one protein record?**\n",
    "\n",
    "We reuse the count species query that we have used in Q6 and we add first the query that filters by rdf:type protein and by the organism, that has to be species. \n",
    "\n",
    "\n",
    "\n"
   ]
  },
  {
   "cell_type": "code",
   "execution_count": 8,
   "id": "ad5c57dd",
   "metadata": {},
   "outputs": [
    {
     "data": {
      "text/html": [
       "<div class=\"krn-spql\"><table><tr class=hdr><th>num_species</th></tr><tr class=odd><td class=val>1078469</td></tr></table><div class=\"tinfo\">Total: 1, Shown: 1</div></div>"
      ]
     },
     "metadata": {},
     "output_type": "display_data"
    }
   ],
   "source": [
    "PREFIX up: <http://purl.uniprot.org/core/>\n",
    "PREFIX rdf: <http://www.w3.org/1999/02/22-rdf-syntax-ns#>\n",
    "\n",
    "SELECT (COUNT(DISTINCT ?species) AS ?num_species)\n",
    "WHERE {\n",
    " ?protein rdf:type up:Protein ; \n",
    "          up:organism ?species . \n",
    "  ?species rdf:type up:Taxon ; \n",
    "          up:rank up:Species . \n",
    "}"
   ]
  },
  {
   "cell_type": "markdown",
   "id": "a8316a6e",
   "metadata": {},
   "source": [
    "**8. Find the AGI codes and gene names for all Arabidopsis thaliana  proteins that have a protein function annotation description that mentions “pattern formation”**\n",
    "\n",
    "Fist of all we filter by taxon id for A. Thaliana as we previously did. Also we use up:annotation for figuring out the function, after this we use filter in order to keep just with those entries for gene_id that contains \"pattern formation\".  "
   ]
  },
  {
   "cell_type": "code",
   "execution_count": 9,
   "id": "761e69a2",
   "metadata": {},
   "outputs": [
    {
     "data": {
      "text/html": [
       "<div class=\"krn-spql\"><table><tr class=hdr><th>gene_name</th>\n",
       "<th>AGI_code</th></tr><tr class=odd><td class=val>GN</td>\n",
       "<td class=val>At1g13980</td></tr><tr class=even><td class=val>RPK2</td>\n",
       "<td class=val>At3g02130</td></tr><tr class=odd><td class=val>RPK1</td>\n",
       "<td class=val>At1g69270</td></tr><tr class=even><td class=val>SEC23A</td>\n",
       "<td class=val>At4g01810</td></tr><tr class=odd><td class=val>RSL1</td>\n",
       "<td class=val>At5g37800</td></tr><tr class=even><td class=val>CUL3A</td>\n",
       "<td class=val>At1g26830</td></tr><tr class=odd><td class=val>MED13</td>\n",
       "<td class=val>At1g55325</td></tr><tr class=even><td class=val>RHD6</td>\n",
       "<td class=val>At1g66470</td></tr><tr class=odd><td class=val>DEX1</td>\n",
       "<td class=val>At3g09090</td></tr><tr class=even><td class=val>DEX1</td>\n",
       "<td class=val>At3g09090</td></tr><tr class=odd><td class=val>IAMT1</td>\n",
       "<td class=val>At5g55250</td></tr><tr class=even><td class=val>YDA</td>\n",
       "<td class=val>At1g63700</td></tr><tr class=odd><td class=val>BHLH95</td>\n",
       "<td class=val>At1g49770</td></tr><tr class=even><td class=val>ATML1</td>\n",
       "<td class=val>At4g21750</td></tr><tr class=odd><td class=val>CUL3B</td>\n",
       "<td class=val>At1g69670</td></tr><tr class=even><td class=val>ROPGEF7</td>\n",
       "<td class=val>At5g02010</td></tr><tr class=odd><td class=val>SHR</td>\n",
       "<td class=val>At4g37650</td></tr><tr class=even><td class=val>SCR</td>\n",
       "<td class=val>At3g54220</td></tr><tr class=odd><td class=val>ROPGAP3</td>\n",
       "<td class=val>At2g46710</td></tr><tr class=even><td class=val>TTL3</td>\n",
       "<td class=val>At2g42580</td></tr></table><div class=\"tinfo\">Total: 22, Shown: 20</div></div>"
      ]
     },
     "metadata": {},
     "output_type": "display_data"
    }
   ],
   "source": [
    "PREFIX rdfs: <http://www.w3.org/2000/01/rdf-schema#>\n",
    "PREFIX rdf: <http://www.w3.org/1999/02/22-rdf-syntax-ns#>\n",
    "PREFIX up: <http://purl.uniprot.org/core/>\n",
    "PREFIX skos: <http://www.w3.org/2004/02/skos/core#>\n",
    "PREFIX taxon: <http://purl.uniprot.org/taxonomy/>\n",
    "\n",
    "SELECT ?gene_name ?AGI_code \n",
    "WHERE {\n",
    "  ?protein rdf:type up:Protein ; \n",
    "           up:organism taxon:3702 ; \n",
    "           up:annotation ?annotate ; \n",
    "           up:encodedBy ?gene . \n",
    "  ?annotate rdfs:comment ?function . \n",
    "  ?gene up:locusName ?AGI_code ; \n",
    "        skos:prefLabel ?gene_name . \n",
    "  FILTER (CONTAINS (?function, \"pattern formation\")) \n",
    "}"
   ]
  },
  {
   "cell_type": "markdown",
   "id": "421e3ea9",
   "metadata": {},
   "source": [
    "## MetaNetX SPARQL Endpoint"
   ]
  },
  {
   "cell_type": "markdown",
   "id": "22fa27ab",
   "metadata": {},
   "source": [
    "Here we stabish the endpoint for the following questions that is going to be MetaNetX, also the output format that will be JSON. \n"
   ]
  },
  {
   "cell_type": "code",
   "execution_count": 10,
   "id": "23c678d6",
   "metadata": {},
   "outputs": [
    {
     "data": {
      "text/html": [
       "<div class=\"krn-spql\"><div class=\"magic\">Endpoint set to: https://rdf.metanetx.org/sparql</div><div class=\"magic\">Request format: JSON</div></div>"
      ],
      "text/plain": [
       "Endpoint set to: https://rdf.metanetx.org/sparql\n",
       "Request format: JSON\n"
      ]
     },
     "metadata": {},
     "output_type": "display_data"
    }
   ],
   "source": [
    "%endpoint https://rdf.metanetx.org/sparql\n",
    "%format JSON  "
   ]
  },
  {
   "cell_type": "markdown",
   "id": "258ccf67",
   "metadata": {},
   "source": [
    "**9. What is the MetaNetX Reaction identifier (starts with “mnxr”) for the UniProt Protein uniprotkb:Q18A79?**\n",
    "\n",
    "For this first we filtered by protein to keep eith the entries related to the protein that is asked in the question. Also we have to find the catalyst related with that protein just for finding the reaction that will led us to the reaction idetifier in MetaNext. "
   ]
  },
  {
   "cell_type": "code",
   "execution_count": 11,
   "id": "5434d224",
   "metadata": {},
   "outputs": [
    {
     "data": {
      "text/html": [
       "<div class=\"krn-spql\"><table><tr class=hdr><th>reaction_id</th></tr><tr class=odd><td class=val>mnxr165934</td></tr><tr class=even><td class=val>mnxr145046c3</td></tr></table><div class=\"tinfo\">Total: 2, Shown: 2</div></div>"
      ]
     },
     "metadata": {},
     "output_type": "display_data"
    }
   ],
   "source": [
    "PREFIX mnx: <https://rdf.metanetx.org/schema/>\n",
    "PREFIX up: <http://purl.uniprot.org/core/>\n",
    "PREFIX rdfs: <http://www.w3.org/2000/01/rdf-schema#>\n",
    "PREFIX uniprotkb: <http://purl.uniprot.org/uniprot/>\n",
    "PREFIX rdf: <http://www.w3.org/1999/02/22-rdf-syntax-ns#>\n",
    "\n",
    "SELECT DISTINCT ?reaction_id \n",
    "WHERE{\n",
    "    ?protein rdf:type mnx:PEPT ; \n",
    "             mnx:peptXref uniprotkb:Q18A79 .\n",
    "    ?catalyst rdf:type mnx:CATA ; \n",
    "              mnx:pept ?protein .\n",
    "    ?gen_prot_react mnx:cata ?catalyst ;\n",
    "                    mnx:reac ?reaction .\n",
    "    ?reaction rdfs:label ?reaction_id .\n",
    "}\n",
    "\n"
   ]
  },
  {
   "cell_type": "markdown",
   "id": "962100b5",
   "metadata": {},
   "source": [
    "## FEDERATED QUERY - UniProt and MetaNetX"
   ]
  },
  {
   "cell_type": "markdown",
   "id": "2e149fe5",
   "metadata": {},
   "source": [
    "**10. What is the official locus name, and the MetaNetX Reaction identifier (mnxr…..) for the protein that has “glycine reductase” catalytic activity in Clostridium difficile (taxon 272563).   (this must be executed on the https://rdf.metanetx.org/sparql   endpoint)**\n",
    "\n",
    "In order to complete this task we are going to use federated querys, thing that allows us to do SPARQL Query's for different endpoints to use remote SPARQL endpoints: in this case we will both of the previous endpoints used (UniProt and MetaNetX). \n",
    "\n",
    "First we do querys in Uniprot service. Here we filter by taxon (thing that we have previously made), and find out the gene that encodes the protein for obtaining the locus name. Also we look after the GO Term (with classifiedWith) for accesing to the label which contains the label that we are going to use for filtering and keeping only withe the ones labeled with \"glycine reductase\". \n",
    "With the MetaNext service we reuse the Query made in the previous question and we use the proteins filtered in the first moment (with the Uniprot service). "
   ]
  },
  {
   "cell_type": "code",
   "execution_count": 12,
   "id": "e3b05e96",
   "metadata": {},
   "outputs": [
    {
     "data": {
      "text/html": [
       "<div class=\"krn-spql\"><table><tr class=hdr><th>locus_name</th>\n",
       "<th>reaction_id</th></tr><tr class=odd><td class=val>CD630_23490</td>\n",
       "<td class=val>mnxr157884c3</td></tr><tr class=even><td class=val>CD630_23490</td>\n",
       "<td class=val>mnxr162774c3</td></tr><tr class=odd><td class=val>CD630_23520</td>\n",
       "<td class=val>mnxr157884c3</td></tr><tr class=even><td class=val>CD630_23520</td>\n",
       "<td class=val>mnxr162774c3</td></tr><tr class=odd><td class=val>CD630_23510</td>\n",
       "<td class=val>mnxr157884c3</td></tr><tr class=even><td class=val>CD630_23510</td>\n",
       "<td class=val>mnxr162774c3</td></tr><tr class=odd><td class=val>CD630_23540</td>\n",
       "<td class=val>mnxr157884c3</td></tr><tr class=even><td class=val>CD630_23480</td>\n",
       "<td class=val>mnxr157884c3</td></tr><tr class=odd><td class=val>CD630_23480</td>\n",
       "<td class=val>mnxr162774c3</td></tr></table><div class=\"tinfo\">Total: 9, Shown: 9</div></div>"
      ]
     },
     "metadata": {},
     "output_type": "display_data"
    }
   ],
   "source": [
    "PREFIX rdfs: <http://www.w3.org/2000/01/rdf-schema#>\n",
    "PREFIX rdf: <http://www.w3.org/1999/02/22-rdf-syntax-ns#>\n",
    "PREFIX up: <http://purl.uniprot.org/core/>\n",
    "PREFIX taxon: <http://purl.uniprot.org/taxonomy/>\n",
    "PREFIX mnx: <https://rdf.metanetx.org/schema/>\n",
    "\n",
    "SELECT ?locus_name ?reaction_id\n",
    "WHERE {\n",
    "    SERVICE <http://sparql.uniprot.org/sparql> {\n",
    "        select distinct ?locus_name ?protein\n",
    "                           WHERE {\n",
    "                               ?protein rdf:type up:Protein ; \n",
    "                                        up:organism taxon:272563 ;\n",
    "                                        up:encodedBy ?gene ; \n",
    "                                        up:classifiedWith ?g_term .\n",
    "                               ?gene up:locusName ?locus_name . \n",
    "                               ?g_term rdfs:label ?info . \n",
    "                               FILTER (CONTAINS (?info, \"glycine reductase\")) \n",
    "                           }\n",
    "    }\n",
    "    SERVICE <https://rdf.metanetx.org/sparql> {\n",
    "        select distinct ?protein ?reaction_id\n",
    "                                 WHERE {\n",
    "                                     #?prot rdf:type mnx:PEPT ; \n",
    "                                     ?prot mnx:peptXref ?protein .\n",
    "                                     ?catalyst rdf:type mnx:CATA ;\n",
    "                                               mnx:pept ?prot .\n",
    "                                     ?gen_prot_react mnx:cata ?catalyst ;\n",
    "                                                     mnx:reac ?reaction .\n",
    "                                     ?reaction rdfs:label ?reaction_id . \n",
    "                                 } \n",
    "    }\n",
    "}"
   ]
  },
  {
   "cell_type": "markdown",
   "id": "1e847c09",
   "metadata": {},
   "source": [
    "**Bibliography**\n",
    "1. https://sparql.uniprot.org/.well-known/sparql-examples/\n",
    "2. https://sparql.uniprot.org/uniprot\n",
    "3. https://www.uniprot.org/help/entry_name\n",
    "4. https://docs.openlinksw.com/virtuoso/virtuosotipsandtricksmanagedaterangequery/\n",
    "5. https://docs.cambridgesemantics.com/anzograph/v2.2/userdoc/date-functions.htm \n",
    "6. https://www.metanetx.org/cgi-bin/mnxget/mnxref/MetaNetX_RDF_schema.pdf\n",
    "7. https://www.w3.org/TR/sparql11-federated-query/\n"
   ]
  }
 ],
 "metadata": {
  "kernelspec": {
   "display_name": "SPARQL",
   "language": "sparql",
   "name": "sparql"
  },
  "language_info": {
   "codemirror_mode": {
    "name": "sparql"
   },
   "mimetype": "application/sparql-query",
   "name": "sparql",
   "pygments_lexer": "sparql-nb"
  }
 },
 "nbformat": 4,
 "nbformat_minor": 5
}
